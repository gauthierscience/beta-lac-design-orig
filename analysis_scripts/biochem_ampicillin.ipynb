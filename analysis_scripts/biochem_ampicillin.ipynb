{
 "cells": [
  {
   "cell_type": "markdown",
   "metadata": {
    "id": "tkZmLTaV53pP"
   },
   "source": [
    "# ampicillin biochemistry specific activity"
   ]
  },
  {
   "cell_type": "code",
   "execution_count": 1,
   "metadata": {
    "id": "jumALwOi6UVg"
   },
   "outputs": [],
   "source": [
    "import os, sys\n",
    "import numpy as np\n",
    "import seaborn as sns\n",
    "import pandas as pd\n",
    "from scipy.stats import linregress\n",
    "import matplotlib.pyplot as plt\n",
    "import matplotlib.patches as patches\n",
    "import matplotlib as mpl\n",
    "from matplotlib import rc\n",
    "\n",
    "mpl.rcParams['pdf.fonttype'] = 42\n",
    "\n",
    "from matplotlib.ticker import ScalarFormatter\n",
    "%matplotlib inline"
   ]
  },
  {
   "cell_type": "markdown",
   "metadata": {
    "id": "0urowuXH6g9p"
   },
   "source": [
    "##Constants"
   ]
  },
  {
   "cell_type": "code",
   "execution_count": 2,
   "metadata": {
    "executionInfo": {
     "elapsed": 157,
     "status": "ok",
     "timestamp": 1679452839162,
     "user": {
      "displayName": "Nicholas Gauthier",
      "userId": "05511967780094540291"
     },
     "user_tz": 240
    },
    "id": "sOE-TeNU6fGk"
   },
   "outputs": [],
   "source": [
    "#############################\n",
    "#                           #\n",
    "#                           #\n",
    "#        CONSTANTS          #\n",
    "#                           #\n",
    "#                           #\n",
    "#############################\n",
    "LOCAL_DIR = '.'\n",
    "DATA_DIR = LOCAL_DIR+'/data'\n",
    "OUTPUT_DIR = LOCAL_DIR+'/figures/ampicillin_biochemistry'\n",
    "if not os.path.exists(OUTPUT_DIR): os.mkdir(OUTPUT_DIR)\n",
    "\n",
    "AMP_SHEETNAME = 'biochem_amp_raw'"
   ]
  },
  {
   "cell_type": "code",
   "execution_count": 3,
   "metadata": {
    "executionInfo": {
     "elapsed": 1414,
     "status": "ok",
     "timestamp": 1679452800780,
     "user": {
      "displayName": "Nicholas Gauthier",
      "userId": "05511967780094540291"
     },
     "user_tz": 240
    },
    "id": "qPgSuxocFCIa"
   },
   "outputs": [],
   "source": [
    "from importlib import reload\n",
    "sys.path.append(LOCAL_DIR) #Helper Functions Here\n",
    "import FramHelperScripts\n",
    "reload(FramHelperScripts)\n",
    "FHS = FramHelperScripts.FramHelperFunctions(DATA_DIR)"
   ]
  },
  {
   "cell_type": "markdown",
   "metadata": {
    "id": "Opb_b4fG71fM"
   },
   "source": [
    "## Load Data"
   ]
  },
  {
   "cell_type": "code",
   "execution_count": 4,
   "metadata": {
    "executionInfo": {
     "elapsed": 5451,
     "status": "ok",
     "timestamp": 1679452963322,
     "user": {
      "displayName": "Nicholas Gauthier",
      "userId": "05511967780094540291"
     },
     "user_tz": 240
    },
    "id": "a-JiLEuB6llW"
   },
   "outputs": [],
   "source": [
    "#############################\n",
    "#                           #\n",
    "#                           #\n",
    "#        LOAD DATA          #\n",
    "#                           #\n",
    "#                           #\n",
    "#############################\n",
    "def add_repnum_manuscriptname(row):\n",
    "    '''\n",
    "    add the manuscript name and and replicate name from the name used\n",
    "    in the raw data into the melted dataframe\n",
    "    '''\n",
    "    name_repnum = row['variable']\n",
    "    row['rep_num'] = int(name_repnum[-1])\n",
    "    row['sample_id'] = name_repnum[0:-3]\n",
    "    return row\n",
    "\n",
    "#load data\n",
    "narrow_df = pd.concat([\n",
    "    \n",
    "    pd.read_excel(\n",
    "        FHS.get_data_filename(), \n",
    "        sheet_name=AMP_SHEETNAME\n",
    "    ).iloc[0:28,].melt(['TIME']),\n",
    "\n",
    "    pd.read_excel(\n",
    "        FHS.get_data_filename(),\n",
    "        sheet_name=AMP_SHEETNAME, \n",
    "        header=32\n",
    "    ).iloc[:,:4].melt(['TIME'])\n",
    "\n",
    "]).reset_index().apply(\n",
    "    lambda row: add_repnum_manuscriptname(row), \n",
    "    axis=1\n",
    ").drop(['index', 'variable'], axis=1)\n",
    "\n",
    "narrow_df = FHS.add_manuscript_name_to_df(\n",
    "    narrow_df, \n",
    "    synonym_column='sample_id',\n",
    "    new_column='manuscript_name'\n",
    ").drop(['sample_id'], axis=1)"
   ]
  },
  {
   "cell_type": "markdown",
   "metadata": {
    "id": "hr9etghG_zxL"
   },
   "source": [
    "## Data Analysis"
   ]
  },
  {
   "cell_type": "code",
   "execution_count": 5,
   "metadata": {
    "executionInfo": {
     "elapsed": 3,
     "status": "ok",
     "timestamp": 1679452964402,
     "user": {
      "displayName": "Nicholas Gauthier",
      "userId": "05511967780094540291"
     },
     "user_tz": 240
    },
    "id": "j3oath43-cLT"
   },
   "outputs": [],
   "source": [
    "#############################\n",
    "#                           #\n",
    "#                           #\n",
    "#        FUNCTiONS          #\n",
    "#                           #\n",
    "#                           #\n",
    "#############################\n",
    "def calculate_rmsd(slope, intersect, actual_x_values, actual_y_values):\n",
    "    '''\n",
    "    calculate the rmsd between predicted and actual values\n",
    "    '''\n",
    "    predicted_values = []\n",
    "    for actual_x in actual_x_values:\n",
    "        predicted_values.append(\n",
    "            slope * actual_x + intersect\n",
    "        )\n",
    "    return np.sqrt(\n",
    "        np.sum(\n",
    "            (np.array(predicted_values) - np.array(actual_y_values)) ** 2\n",
    "        ) / len(predicted_values)\n",
    "    )\n",
    "\n",
    "def window_linear_regression(narrow_df, window_size=5):\n",
    "    '''\n",
    "    repeately perform a linear regression on each design over the number\n",
    "    of timepoints specified by 'window_size'.\n",
    "    '''\n",
    "    #load molecular weights of each design\n",
    "    # using https://www.bioinformatics.org/sms/prot_mw.html\n",
    "    molecular_weights = {\n",
    "        'WT TEM-1': 28.91,\n",
    "        '50.a': 28.34, '50.b': 27.11,\n",
    "        '70.a': 28.25, '70.b': 27.87,\n",
    "        '80.a': 28.34, '80.b': 28.36,\n",
    "        '90.a': 28.86, '90.b': 28.49,\n",
    "        '95.a': 28.63, '95.b': 28.71,\n",
    "        '98.a': 28.77, '98.b': 28.62,\n",
    "        'rw-consensus': 27.98,\n",
    "        'opt.b': 28.48,\n",
    "        'opt.a': 28.73,\n",
    "        'neg. ctrl': 28.89,\n",
    "        'pbs': 28.91 #SET TO WT\n",
    "    }\n",
    "    for design in molecular_weights.keys():\n",
    "        molecular_weights[design] *= 1000\n",
    "\n",
    "    lin_reg_data = []\n",
    "\n",
    "    for manuscript_name in np.unique(narrow_df.manuscript_name):\n",
    "        for rep_num in [1,2,3]:\n",
    "            conditions = narrow_df[\n",
    "                (narrow_df.manuscript_name == manuscript_name) & \n",
    "                (narrow_df.rep_num == rep_num)\n",
    "            ].sort_values(by='TIME', ascending=True)\n",
    "\n",
    "            for i in range(0, len(conditions)-window_size):\n",
    "                window_times = conditions[i:i+window_size].TIME.tolist()\n",
    "                window_absorbances = conditions[i:i+window_size].value.tolist()\n",
    "                res = linregress(window_times, window_absorbances)\n",
    "                design = np.unique(conditions.manuscript_name)[0]\n",
    "                rep_num = np.unique(conditions.rep_num)[0]\n",
    "                value = {\n",
    "                    'manuscript_name': design,\n",
    "                    'rep_num': rep_num,\n",
    "                    'start_time_index': i,\n",
    "                    'start_time_sec': window_times[0],\n",
    "                    'end_time_sec': window_times[len(window_times)-1],\n",
    "                    'slope': res.slope,\n",
    "                    'intercept': res.intercept,\n",
    "                    'window_times': pd.array(window_times),\n",
    "                    'window_absorbances': pd.array(window_absorbances),\n",
    "                    'rmsd': calculate_rmsd(\n",
    "                        res.slope, res.intercept, \n",
    "                        pd.array(window_times), \n",
    "                        pd.array(window_absorbances)\n",
    "                    ),\n",
    "                    'molecular_weight': molecular_weights[design]\n",
    "                }\n",
    "                lin_reg_data.append(value)\n",
    "    toreturn = pd.DataFrame.from_dict(lin_reg_data)\n",
    "    return toreturn"
   ]
  },
  {
   "cell_type": "code",
   "execution_count": 6,
   "metadata": {
    "executionInfo": {
     "elapsed": 1083,
     "status": "ok",
     "timestamp": 1679452966805,
     "user": {
      "displayName": "Nicholas Gauthier",
      "userId": "05511967780094540291"
     },
     "user_tz": 240
    },
    "id": "b-wgT9WkA9w1"
   },
   "outputs": [],
   "source": [
    "#Perform a linear regression of size 5 across every timepoint\n",
    "amp_lr_win5_df = window_linear_regression(narrow_df, window_size=5)"
   ]
  },
  {
   "cell_type": "markdown",
   "metadata": {
    "id": "XD9OXIkFBqHs"
   },
   "source": [
    "## Plot data"
   ]
  },
  {
   "cell_type": "code",
   "execution_count": 7,
   "metadata": {
    "executionInfo": {
     "elapsed": 467,
     "status": "ok",
     "timestamp": 1679452971243,
     "user": {
      "displayName": "Nicholas Gauthier",
      "userId": "05511967780094540291"
     },
     "user_tz": 240
    },
    "id": "LFUVxY8eBeW5"
   },
   "outputs": [],
   "source": [
    "def smart_jitter(bp, df, ax, \n",
    "                 actual_sample_order,\n",
    "                 sample_colname='manuscript_name', \n",
    "                 na_samples=[],\n",
    "                 rep_colname='rep_num',\n",
    "                 value_colname='specific_activity'):\n",
    "    #plot raw datapoints, but \"smart\" jitter so all are visible\n",
    "    #bp = barplot output\n",
    "    rawdatapoints = {'x':[], 'y': []}\n",
    "    for idx, samplename in enumerate(actual_sample_order):\n",
    "        bar_details = bp.patches[idx]\n",
    "        padding = 0.2 * bar_details.get_width()\n",
    "        bar_x_start = bar_details.xy[0] + padding\n",
    "        bar_width = bar_details.get_width() - (2 * padding)\n",
    "\n",
    "        rep_spacing = 1 / 2 * bar_width\n",
    "        if samplename in na_samples:\n",
    "            ax.text(\n",
    "                x=bar_x_start+(bar_width/2), y=40,\n",
    "                horizontalalignment='center', verticalalignment='center',\n",
    "                s='N/A', fontsize=14\n",
    "            )\n",
    "        else:\n",
    "            tmp_df = df[df[sample_colname]==samplename]\n",
    "            for i in range(0, 3):\n",
    "                rawdatapoints['x'].append(bar_x_start + (i * rep_spacing))\n",
    "                tmp_df = df[(\n",
    "                    (df[sample_colname]==samplename) &\n",
    "                    (df[rep_colname]==i+1)\n",
    "                )]\n",
    "                rawdatapoints['y'].append(tmp_df[value_colname])\n",
    "        \n",
    "    ax.scatter(\n",
    "        x=rawdatapoints['x'], y=rawdatapoints['y'], \n",
    "        color='darkred', s=20, zorder=10,\n",
    "        marker='D', linewidth=0\n",
    "    )\n",
    "\n",
    "def get_best_slopes_df(df, rmsd_cutoff):\n",
    "    tmpdf = df[df.rmsd <= rmsd_cutoff].reset_index(drop=True)\n",
    "    return tmpdf.loc[tmpdf.groupby(['manuscript_name', 'rep_num']).slope.idxmin()].reset_index(drop=True)\n",
    "\n",
    "def plotSpecificActivity(df_linear_fit, rmsd_cutoff=0.001):\n",
    "    '''\n",
    "    Final plot of the specific activityRight now activity assay is absorbance. \n",
    "       Starting enzyme 0.5 nanomolar:\n",
    "          - enzyme molecular weight = 28.91 kilodaltons (WT) and 28.25 (70.1)\n",
    "          - 1 dalton = 1 g / mol so 28910 and 28250 grams per mol\n",
    "          - starting enzyme is 0.5 nanomolar in 0.1 mL = 0.0000000000005 mol (.5 pmol?)\n",
    "          - 0.0000000000005 mol * X grams/mol = mass in grams\n",
    "          - so 14.455 ng of WT enzyme and 14.125 of 70.1\n",
    "       Starting AMP concentration is 0.08umol in 100uL\n",
    "    '''\n",
    "    fig, ax = plt.subplots()\n",
    "    fig.set_size_inches(14, 7)\n",
    "\n",
    "    best_fit_slopes_df = get_best_slopes_df(df_linear_fit, rmsd_cutoff)\n",
    "    \n",
    "    #calculate specific activity = number of micromoles of product formed per milligram of enzyme per minute\n",
    "    #   slope = change in absorbance\n",
    "    #   amp concentration = 0.08 umol (note it is in 100 uL)\n",
    "    #   mass of enzyme in mg = 0.5 mol * X mg/mol * 1000 mg/g\n",
    "    #   time in minutes\n",
    "    # absorbance unit per mg enzyme per minute\n",
    "    best_fit_slopes_df['specific_activity'] = np.abs(best_fit_slopes_df.slope) \\\n",
    "        / 0.08 \\\n",
    "        / (0.0000000000005 * best_fit_slopes_df.molecular_weight * 1000) \\\n",
    "        / ((best_fit_slopes_df.end_time_sec - best_fit_slopes_df.start_time_sec) / 60)\n",
    "\n",
    "    #add 50's even though they aren't there - will indicate N/A in plot\n",
    "    best_fit_slopes_df = pd.concat([best_fit_slopes_df, pd.DataFrame(\n",
    "        {\n",
    "            'manuscript_name': ['50.a', '50.a', '50.a','50.b', '50.b', '50.b',],\n",
    "            'rep_num': [1, 2, 3, 1, 2, 3],\n",
    "            'specific_activity': [0, 0, 0, 0, 0, 0]\n",
    "        }\n",
    "    )]).reset_index()\n",
    "\n",
    "    sample_order = FHS.get_sample_order(best_fit_slopes_df.manuscript_name)\n",
    "\n",
    "    bp = sns.barplot(\n",
    "        data=best_fit_slopes_df, x='manuscript_name', y='specific_activity',\n",
    "        errorbar='sd', color='lightgray', order=sample_order\n",
    "    )\n",
    "\n",
    "    smart_jitter(bp, best_fit_slopes_df, ax, sample_order, na_samples=['50.a', '50.b'])\n",
    "    ax.set_title('Biochemistry of Ampicillin Hydrolysis', fontsize=20)\n",
    "    ax.set_ylabel('Specific Activity\\n(change in absorbance per mg enzyme per minute)')\n",
    "    ax.set_xlabel('Design')\n",
    "    \n",
    "    ax.set_xticklabels(ax.get_xticklabels(), rotation = 45, \n",
    "                       ha='right', rotation_mode='anchor')\n",
    "    \n",
    "    #save figure\n",
    "    fig.savefig(OUTPUT_DIR+'/amp_biochem_specificactivity.pdf')\n",
    "\n",
    "    #save the top slopes that are used in the main figure to a csv\n",
    "    #best_fit_slopes_df.to_csv(OUTPUT_DIR+'/processed_amp_specific_activity_data.tab', sep='\\t')"
   ]
  },
  {
   "cell_type": "code",
   "execution_count": 8,
   "metadata": {},
   "outputs": [
    {
     "data": {
      "image/png": "[encoded data removed]",
      "text/plain": [
       "<Figure size 1400x700 with 1 Axes>"
      ]
     },
     "metadata": {},
     "output_type": "display_data"
    }
   ],
   "source": [
    "plotSpecificActivity(amp_lr_win5_df, rmsd_cutoff=0.001)"
   ]
  },
  {
   "cell_type": "code",
   "execution_count": null,
   "metadata": {
    "id": "Lv5YPL35GBnP"
   },
   "outputs": [],
   "source": []
  }
 ],
 "metadata": {
  "colab": {
   "authorship_tag": "ABX9TyOuG0KXbv9whMN9ZMN8eW3e",
   "mount_file_id": "1C6fMXDxeVU8zFkiqlbBb2MpWNQ_wX5dT",
   "provenance": []
  },
  "kernelspec": {
   "display_name": "Python 3 (ipykernel)",
   "language": "python",
   "name": "python3"
  },
  "language_info": {
   "codemirror_mode": {
    "name": "ipython",
    "version": 3
   },
   "file_extension": ".py",
   "mimetype": "text/x-python",
   "name": "python",
   "nbconvert_exporter": "python",
   "pygments_lexer": "ipython3",
   "version": "3.11.4"
  }
 },
 "nbformat": 4,
 "nbformat_minor": 4
}
