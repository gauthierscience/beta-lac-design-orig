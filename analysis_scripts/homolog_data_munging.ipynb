{
 "cells": [
  {
   "cell_type": "markdown",
   "metadata": {
    "id": "y4GNDybkyOc3"
   },
   "source": [
    "# Homolog data munging\n",
    "\n",
    "Generate fasta files for each tested sequence of closest homologs from the MSA used to infer the EVcouplings model. "
   ]
  },
  {
   "cell_type": "code",
   "execution_count": 1,
   "metadata": {
    "executionInfo": {
     "elapsed": 2058,
     "status": "ok",
     "timestamp": 1681321249456,
     "user": {
      "displayName": "Nicholas Gauthier",
      "userId": "05511967780094540291"
     },
     "user_tz": 240
    },
    "id": "PfxVtJ6Xxmrt"
   },
   "outputs": [],
   "source": [
    "import os, sys\n",
    "import scipy\n",
    "import numpy as np\n",
    "import seaborn as sns\n",
    "import pandas as pd\n",
    "import matplotlib.pyplot as plt\n",
    "import matplotlib.patches as patches\n",
    "import matplotlib as mpl\n",
    "import matplotlib.colors as mcolors\n",
    "import matplotlib.cm as cm\n",
    "from matplotlib import rc\n",
    "\n",
    "mpl.rcParams['pdf.fonttype'] = 42\n",
    "\n",
    "from matplotlib.ticker import ScalarFormatter\n",
    "%matplotlib inline"
   ]
  },
  {
   "cell_type": "markdown",
   "metadata": {
    "id": "FyC1ARpAMjxH"
   },
   "source": [
    "## Constants"
   ]
  },
  {
   "cell_type": "code",
   "execution_count": 2,
   "metadata": {
    "executionInfo": {
     "elapsed": 9,
     "status": "ok",
     "timestamp": 1681321249457,
     "user": {
      "displayName": "Nicholas Gauthier",
      "userId": "05511967780094540291"
     },
     "user_tz": 240
    },
    "id": "qDPZD-VvWHGg"
   },
   "outputs": [],
   "source": [
    "#############################\n",
    "#                           #\n",
    "#                           #\n",
    "#        CONSTANTS          #\n",
    "#                           #\n",
    "#                           #\n",
    "#############################\n",
    "LOCAL_DIR = '.'\n",
    "DATA_DIR = LOCAL_DIR+'/data'\n",
    "\n",
    "OUTPUT_DIR = LOCAL_DIR+'/figures/homolog_msas'\n",
    "if not os.path.exists(OUTPUT_DIR): os.makedirs(OUTPUT_DIR)"
   ]
  },
  {
   "cell_type": "code",
   "execution_count": 3,
   "metadata": {
    "executionInfo": {
     "elapsed": 10660,
     "status": "ok",
     "timestamp": 1681321260109,
     "user": {
      "displayName": "Nicholas Gauthier",
      "userId": "05511967780094540291"
     },
     "user_tz": 240
    },
    "id": "Hftt4x0Rx_gN"
   },
   "outputs": [],
   "source": [
    "from importlib import reload\n",
    "if LOCAL_DIR not in sys.path: \n",
    "    sys.path.append(LOCAL_DIR) #Helper Functions Here\n",
    "import FramHelperScripts\n",
    "reload(FramHelperScripts)\n",
    "FHS = FramHelperScripts.FramHelperFunctions(DATA_DIR)"
   ]
  },
  {
   "cell_type": "markdown",
   "metadata": {
    "id": "Gkb_hJshVjbm"
   },
   "source": [
    "## Load Data"
   ]
  },
  {
   "cell_type": "code",
   "execution_count": 4,
   "metadata": {
    "executionInfo": {
     "elapsed": 16804,
     "status": "ok",
     "timestamp": 1681321276912,
     "user": {
      "displayName": "Nicholas Gauthier",
      "userId": "05511967780094540291"
     },
     "user_tz": 240
    },
    "id": "4_iGDXohPrNM"
   },
   "outputs": [],
   "source": [
    "#load all tested sequences\n",
    "sequences = FHS.get_sequences_df()[['manuscript_name', 'full_sequence',]]\n",
    "\n",
    "#load the natural MSA used to generate the model\n",
    "msa_df = FHS.get_natural_msa_df(remove_unaligned_positions=False)\n",
    "\n",
    "#remove non-existant samples from sample order\n",
    "sample_order = FHS.get_sample_order(sequences.manuscript_name)\n",
    "\n",
    "WT_SEQ = sequences[sequences.manuscript_name=='WT TEM-1'].iloc[0].full_sequence"
   ]
  },
  {
   "cell_type": "code",
   "execution_count": 5,
   "metadata": {},
   "outputs": [],
   "source": [
    "def get_mut_count(seq1, seq2):\n",
    "    return np.sum(\n",
    "        [1 for idx in range(0, len(seq1)) if seq1[idx] != seq2[idx]]\n",
    "    )\n",
    "\n",
    "def get_seq_id_w_muts(seq_id, target_id, mutcount_to_target, mutcount_to_wt):\n",
    "    return '{0} | {1:.0f}mut to {2} | {3:.0f}mut to WT'.format(\n",
    "        seq_id, mutcount_to_target, target_id, mutcount_to_wt\n",
    "    )\n",
    "\n",
    "def output_msa_nearest_homologs(\n",
    "    target_tested_seqname, homologs_to_include=5, outfile=None\n",
    "):\n",
    "    target_seq = sequences[\n",
    "        sequences.manuscript_name == target_tested_seqname\n",
    "    ].iloc[0].full_sequence\n",
    "    \n",
    "    #remove WT from comparison - we want top homologs that are not wt\n",
    "    msa_w_mutcount_df = msa_df[msa_df.seq_id != 'BLAT_ECOLX/24-286'].assign(\n",
    "        mutcount = lambda df: df.seq.apply(\n",
    "            lambda msa_seq: get_mut_count(target_seq, msa_seq)\n",
    "        )\n",
    "    ).sort_values(\n",
    "        by='mutcount'\n",
    "    ).reset_index(\n",
    "        drop=True\n",
    "    )[0:homologs_to_include]\n",
    "    \n",
    "    fasta_entries = [\n",
    "        '>{0}\\n{1}'.format(target_tested_seqname, target_seq),\n",
    "        '>{0}\\n{1}'.format(\n",
    "            get_seq_id_w_muts(\n",
    "                'WT TEM-1', \n",
    "                target_tested_seqname,\n",
    "                get_mut_count(target_seq, WT_SEQ),\n",
    "                get_mut_count(WT_SEQ, WT_SEQ)\n",
    "            ), \n",
    "            WT_SEQ\n",
    "        ),\n",
    "    ]\n",
    "    for idx, row in msa_w_mutcount_df.iterrows():\n",
    "        fasta_entries.append(\n",
    "            '>{0}\\n{1}'.format(\n",
    "                get_seq_id_w_muts(\n",
    "                    row.seq_id, \n",
    "                    target_tested_seqname,\n",
    "                    row.mutcount, \n",
    "                    get_mut_count(row.seq, WT_SEQ)\n",
    "                ), \n",
    "                row.seq\n",
    "            )\n",
    "        )\n",
    "    output = '\\n\\n'.join(fasta_entries)\n",
    "    if outfile == None: print(output)\n",
    "    else: \n",
    "        f = open(outfile, 'w')\n",
    "        f.write(output)\n",
    "        f.close()"
   ]
  },
  {
   "cell_type": "code",
   "execution_count": 6,
   "metadata": {},
   "outputs": [],
   "source": [
    "for seq in sample_order:\n",
    "    output_msa_nearest_homologs(\n",
    "        seq, \n",
    "        outfile=OUTPUT_DIR+'/{0}.fa'.format(seq)\n",
    "    )"
   ]
  },
  {
   "cell_type": "code",
   "execution_count": null,
   "metadata": {},
   "outputs": [],
   "source": []
  }
 ],
 "metadata": {
  "colab": {
   "authorship_tag": "ABX9TyPqTp9Vxc+JBsr+vfuJf9WY",
   "mount_file_id": "1qlb-aWDCmsJDDbnFEc1j8Shdb70_WXJC",
   "provenance": []
  },
  "kernelspec": {
   "display_name": "Python 3 (ipykernel)",
   "language": "python",
   "name": "python3"
  },
  "language_info": {
   "codemirror_mode": {
    "name": "ipython",
    "version": 3
   },
   "file_extension": ".py",
   "mimetype": "text/x-python",
   "name": "python",
   "nbconvert_exporter": "python",
   "pygments_lexer": "ipython3",
   "version": "3.11.6"
  }
 },
 "nbformat": 4,
 "nbformat_minor": 4
}
