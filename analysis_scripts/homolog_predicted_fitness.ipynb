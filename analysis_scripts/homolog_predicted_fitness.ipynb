{
 "cells": [
  {
   "cell_type": "markdown",
   "metadata": {},
   "source": [
    "# Predicted fitness of sequences in multiple sequence alignment used for model generation\n",
    "\n",
    "Note that EVH is only computed for homologs that are gap free."
   ]
  },
  {
   "cell_type": "code",
   "execution_count": 1,
   "metadata": {},
   "outputs": [],
   "source": [
    "#########################\n",
    "#                       #\n",
    "#                       #\n",
    "#    LIBRARY IMPORT     #\n",
    "#                       #\n",
    "#                       #\n",
    "#########################\n",
    "\n",
    "import os, sys\n",
    "import numpy as np\n",
    "import math\n",
    "import matplotlib.pyplot as plt\n",
    "import matplotlib as mpl\n",
    "from Bio import AlignIO\n",
    "from evcouplings.couplings.model import _hamiltonians"
   ]
  },
  {
   "cell_type": "code",
   "execution_count": 2,
   "metadata": {},
   "outputs": [],
   "source": [
    "#############################\n",
    "#                           #\n",
    "#                           #\n",
    "#        CONSTANTS          #\n",
    "#                           #\n",
    "#                           #\n",
    "#############################\n",
    "LOCAL_DIR = '.'\n",
    "DATA_DIR = LOCAL_DIR+'/data'\n",
    "OUTPUT_DIR = LOCAL_DIR+'/figures/alignment_devh'\n",
    "if not os.path.exists(OUTPUT_DIR): os.makedirs(OUTPUT_DIR)"
   ]
  },
  {
   "cell_type": "code",
   "execution_count": 3,
   "metadata": {},
   "outputs": [],
   "source": [
    "#############################\n",
    "#                           #\n",
    "#                           #\n",
    "#        LOAD DATA          #\n",
    "#                           #\n",
    "#                           #\n",
    "#############################\n",
    "from importlib import reload\n",
    "sys.path.append(LOCAL_DIR) #Helper Functions Here\n",
    "import FramHelperScripts\n",
    "reload(FramHelperScripts)\n",
    "FHS = FramHelperScripts.FramHelperFunctions(DATA_DIR)"
   ]
  },
  {
   "cell_type": "code",
   "execution_count": 4,
   "metadata": {},
   "outputs": [],
   "source": [
    "model = FHS.get_model()\n",
    "sequences = FHS.get_sequences_df().to_dict('records')\n",
    "sequences_index = {rec['manuscript_name']: i for i, rec in enumerate(sequences)}\n",
    "sequences_mapped = np.array([[model.alphabet_map[a] for a in rec['aligned_sequence']] for rec in sequences])\n",
    "sequences_evh = _hamiltonians(sequences_mapped, model.J_ij, model.h_i)[:, 0]\n"
   ]
  },
  {
   "cell_type": "code",
   "execution_count": 5,
   "metadata": {},
   "outputs": [
    {
     "data": {
      "text/plain": [
       "['manuscript_name',\n",
       " 'is_design',\n",
       " 'EVH',\n",
       " 'functional',\n",
       " 'full_sequence',\n",
       " 'aligned_sequence',\n",
       " 'closest_natural_sequence',\n",
       " 'natural_align_length',\n",
       " 'identities_to_natural',\n",
       " 'mut_to_natural',\n",
       " 'percent_id_to_natural',\n",
       " 'model_mutations']"
      ]
     },
     "execution_count": 5,
     "metadata": {},
     "output_type": "execute_result"
    }
   ],
   "source": [
    "list(sequences[0].keys())"
   ]
  },
  {
   "cell_type": "code",
   "execution_count": 6,
   "metadata": {},
   "outputs": [],
   "source": [
    "alphabet_map = np.full(256, -1, dtype=int)\n",
    "for aa, symbol in model.alphabet_map.items():\n",
    "    alphabet_map[ord(aa)] = symbol"
   ]
  },
  {
   "cell_type": "code",
   "execution_count": 7,
   "metadata": {},
   "outputs": [],
   "source": [
    "msa_mapped = np.array(AlignIO.read(FHS.msa_filename, 'fasta'), dtype='S1').view(np.int8)\n",
    "msa_mapped = alphabet_map[msa_mapped]\n",
    "msa_mapped = msa_mapped[:, msa_mapped[0] >= 0]\n",
    "msa_mapped = msa_mapped[(msa_mapped >= 0).all(axis=1), :]\n",
    "msa_evh = _hamiltonians(msa_mapped, model.J_ij, model.h_i)[:, 0]"
   ]
  },
  {
   "cell_type": "code",
   "execution_count": 8,
   "metadata": {},
   "outputs": [],
   "source": [
    "def roundup(x):\n",
    "    return int(math.ceil(x / 10.0)) * 10\n",
    "\n",
    "def rounddown(x):\n",
    "    return int(math.floor(x / 10.0)) * 10\n"
   ]
  },
  {
   "cell_type": "code",
   "execution_count": 9,
   "metadata": {},
   "outputs": [
    {
     "data": {
      "image/png": "[encoded data removed]",
      "text/plain": [
       "<Figure size 640x480 with 5 Axes>"
      ]
     },
     "metadata": {},
     "output_type": "display_data"
    }
   ],
   "source": [
    "wt_evh = sequences_evh[sequences_index['WT TEM-1']]\n",
    "msa_devh = msa_evh - wt_evh\n",
    "sequences_devh = sequences_evh - wt_evh\n",
    "\n",
    "msa_devh_hist_bin_range = (rounddown(msa_evh.min()) - wt_evh, roundup(msa_evh.max()) - wt_evh)\n",
    "msa_devh_hist, msa_devh_hist_bin_edges = np.histogram(msa_devh, bins=int(msa_devh_hist_bin_range[1] - msa_devh_hist_bin_range[0]), range=msa_devh_hist_bin_range)\n",
    "\n",
    "seqs_devh_hist_bin_range = (rounddown(sequences_evh.min()) - wt_evh, roundup(sequences_evh.max()) - wt_evh)\n",
    "seqs_devh_hist, seqs_devh_hist_bins = np.histogram(sequences_devh[1:], bins=int(seqs_devh_hist_bin_range[1] - seqs_devh_hist_bin_range[0]), range=seqs_devh_hist_bin_range)\n",
    "\n",
    "cdf = msa_devh_hist.cumsum()\n",
    "cdf = cdf / cdf[-1]\n",
    "threshold = 1e-8\n",
    "xmin = msa_devh_hist_bin_edges[np.argmax(cdf >= threshold)]\n",
    "xmax = roundup(max(msa_devh_hist_bin_edges[-1], seqs_devh_hist_bins[-1]))\n",
    "\n",
    "y_tick_locator = mpl.ticker.MaxNLocator(integer=True, nbins='auto', steps=[1, 2, 5, 10])\n",
    "\n",
    "fig, (ax1, ax2, ax3) = plt.subplots(3, 1, sharex=True, gridspec_kw={'height_ratios': [2, 0, 1], 'hspace': 0})\n",
    "ax1.axvline(x=0, color='#555555', linewidth=0.5, linestyle='--', zorder=0)\n",
    "ax1.hist(msa_devh_hist_bin_edges[:-1], msa_devh_hist_bin_edges, weights=msa_devh_hist, color='silver', zorder=1)\n",
    "ax1.set_xlabel('ΔEVH')\n",
    "ax1.set_xlim(xmin, xmax)\n",
    "ax1t = ax1.twinx()\n",
    "ax1t.set_ylabel('Alignment')\n",
    "ax1t.tick_params(right=False, labelright=False)\n",
    "\n",
    "ax2.set_ylabel('Number of Sequences')\n",
    "ax2.tick_params(axis='y', left=False, labelleft=False)\n",
    "\n",
    "ax3.invert_yaxis()\n",
    "ax3.axvline(x=0, color='#555555', linewidth=0.5, linestyle='--', zorder=0)\n",
    "ax3.hist(seqs_devh_hist_bins[:-1], seqs_devh_hist_bins, weights=seqs_devh_hist, color='dimgrey', zorder=1)\n",
    "ax3.set_xlabel('ΔEVH')\n",
    "ax3.set_xlim(xmin, xmax)\n",
    "ax3.yaxis.set_major_locator(y_tick_locator)\n",
    "ax3t = ax3.twinx()\n",
    "ax3t.set_ylabel('Designed')\n",
    "ax3t.tick_params(right=False, labelright=False)\n",
    "\n",
    "fig.align_labels()\n",
    "fig.tight_layout()\n",
    "fig.savefig(os.path.join(OUTPUT_DIR, 'alignment_devh.pdf'), bbox_inches='tight')\n"
   ]
  },
  {
   "cell_type": "code",
   "execution_count": null,
   "metadata": {},
   "outputs": [],
   "source": []
  }
 ],
 "metadata": {
  "kernelspec": {
   "display_name": "Python 3 (ipykernel)",
   "language": "python",
   "name": "python3"
  },
  "language_info": {
   "codemirror_mode": {
    "name": "ipython",
    "version": 3
   },
   "file_extension": ".py",
   "mimetype": "text/x-python",
   "name": "python",
   "nbconvert_exporter": "python",
   "pygments_lexer": "ipython3",
   "version": "3.11.6"
  }
 },
 "nbformat": 4,
 "nbformat_minor": 4
}
